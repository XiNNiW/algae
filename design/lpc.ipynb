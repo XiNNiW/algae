{
 "cells": [
  {
   "cell_type": "code",
   "execution_count": 9,
   "metadata": {},
   "outputs": [
    {
     "name": "stdout",
     "output_type": "stream",
     "text": [
      "[ 1.         -1.52256187  0.57588716 -0.06477903  0.61648217 -0.77942572\n",
      "  0.35634188]\n"
     ]
    }
   ],
   "source": [
    "import numpy as np \n",
    "from scipy import signal\n",
    "import math\n",
    "import matplotlib.pyplot as plt \n",
    "# from audiolazy import lpc\n",
    "from librosa import lpc\n",
    "\n",
    "\n",
    "signal  = np.ndarray(shape=(23,),buffer=np.array([0.0,0.1,0.2,0.3,0.4,0.5,0.6,0.7,0.8,0.9,0.4,0.0,-0.4,-0.9,-0.8,-0.7,-0.6,-0.5,-0.4,-0.3,-0.2,-0.1,0.0]))\n",
    "\n",
    "a = lpc(signal, order=6)\n",
    "print(a)\n",
    "\n"
   ]
  },
  {
   "cell_type": "code",
   "execution_count": 10,
   "metadata": {},
   "outputs": [
    {
     "name": "stdout",
     "output_type": "stream",
     "text": [
      "[  1.          -5.24567396  12.60460893 -18.077003    16.77122466\n",
      " -10.07122889   3.61427549  -0.5936647    0.        ]\n"
     ]
    }
   ],
   "source": [
    "signal  = np.ndarray(shape=(8,),buffer=np.array([0.0,0.1,0.2,0.3,0.4,0.5,0.6,0.7]))\n",
    "\n",
    "a = lpc(signal, order=8)\n",
    "print(a)"
   ]
  }
 ],
 "metadata": {
  "interpreter": {
   "hash": "e7370f93d1d0cde622a1f8e1c04877d8463912d04d973331ad4851f04de6915a"
  },
  "kernelspec": {
   "display_name": "Python 3.10.2 64-bit",
   "language": "python",
   "name": "python3"
  },
  "language_info": {
   "codemirror_mode": {
    "name": "ipython",
    "version": 3
   },
   "file_extension": ".py",
   "mimetype": "text/x-python",
   "name": "python",
   "nbconvert_exporter": "python",
   "pygments_lexer": "ipython3",
   "version": "3.10.4"
  },
  "orig_nbformat": 4
 },
 "nbformat": 4,
 "nbformat_minor": 2
}
